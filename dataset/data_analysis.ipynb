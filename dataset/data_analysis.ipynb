{
 "cells": [
  {
   "cell_type": "code",
   "execution_count": null,
   "metadata": {},
   "outputs": [],
   "source": [
    "%pip install --upgrade jupyter notebook ipykernel"
   ]
  },
  {
   "cell_type": "code",
   "execution_count": 35,
   "metadata": {},
   "outputs": [],
   "source": [
    "# 统计函数\n",
    "import json\n",
    "from collections import Counter, defaultdict\n",
    "from tabulate import tabulate\n",
    "\n",
    "def data_load(file_name:str):\n",
    "\n",
    "    with open(f'{file_name}.json', 'r', encoding='utf-8') as f:\n",
    "        data = [json.loads(line) for line in f]\n",
    "    \n",
    "    if file_name == 'user':\n",
    "        print('\\n'.join(str({k: v for k, v in d.items() if k not in ['friends', 'elite']}) for d in data[:2]))\n",
    "    else:\n",
    "        print('\\n'.join([str(d) for d in data[:2]]))\n",
    "    return data\n",
    "\n",
    "def process_data(data):\n",
    "    # 预处理 data_user，删除值为空字符串、空列表或空字典的键\n",
    "    cleaned_data = []\n",
    "    for d in data:\n",
    "        cleaned_data.append({k: v for k, v in d.items() if v not in [\"\", [], {}]})\n",
    "\n",
    "    key_counter = defaultdict(Counter)\n",
    "    for d in cleaned_data:\n",
    "        key_counter[d['source']].update(d.keys())\n",
    "\n",
    "    for k, v in key_counter.items():\n",
    "        # v_dict = dict(sorted(v.items()))\n",
    "        v_dict = dict(v.items())\n",
    "        # print(f\"\\n{k}:\")\n",
    "        # for field, count in v_dict.items():\n",
    "        #     print(f\"  {field}: {count}\")\n",
    "\n",
    "        total = max(v_dict.values())\n",
    "        # 生成表格数据\n",
    "        table_data = [\n",
    "            [field, count, f\"{(1 - count / total) * 100:.2f}%\", '']\n",
    "            for field, count in v_dict.items()\n",
    "        ]\n",
    "\n",
    "        # 打印表格\n",
    "        print(f\"\\n{k}:\")\n",
    "        print(tabulate(table_data, headers=[\"Field\", \"Count\", \"Percentage of Missing\", \"待补充的分析\"], tablefmt=\"github\"))\n",
    "\n",
    "    return cleaned_data, key_counter"
   ]
  },
  {
   "cell_type": "markdown",
   "metadata": {},
   "source": [
    "# 🌟User数据分析\n",
    "`user.json`文件数据分析，其中仅yelp数据集中的user数据包含大量有效信息，amazon和goodreads数据集中的user数据仅包含user_id和source信息\n",
    "\n",
    "分析结果：\n",
    "- yelp的user数据中，friends字段包含太多user_id，而且难以从中提取有效信息，应当删除\n",
    "- yelp的user数据中，elite字段缺失太多，仅存36875/558111=6.6%，其可能表示用户活跃的年份，参考价值可能不大，删除"
   ]
  },
  {
   "cell_type": "code",
   "execution_count": 33,
   "metadata": {},
   "outputs": [
    {
     "name": "stdout",
     "output_type": "stream",
     "text": [
      "{'user_id': 'qVc8ODYU5SZjKXVBgXdI7w', 'name': 'Walker', 'review_count': 585, 'yelping_since': '2007-01-25 16:47:26', 'useful': 7217, 'funny': 1259, 'cool': 5994, 'fans': 267, 'average_stars': 3.91, 'compliment_hot': 250, 'compliment_more': 65, 'compliment_profile': 55, 'compliment_cute': 56, 'compliment_list': 18, 'compliment_note': 232, 'compliment_plain': 844, 'compliment_cool': 467, 'compliment_funny': 467, 'compliment_writer': 239, 'compliment_photos': 180, 'source': 'yelp'}\n",
      "{'user_id': 'j14WgRoU_-2ZE1aw1dXrJg', 'name': 'Daniel', 'review_count': 4333, 'yelping_since': '2009-01-25 04:35:42', 'useful': 43091, 'funny': 13066, 'cool': 27281, 'fans': 3138, 'average_stars': 3.74, 'compliment_hot': 1145, 'compliment_more': 264, 'compliment_profile': 184, 'compliment_cute': 157, 'compliment_list': 251, 'compliment_note': 1847, 'compliment_plain': 7054, 'compliment_cool': 3131, 'compliment_funny': 3131, 'compliment_writer': 1521, 'compliment_photos': 1946, 'source': 'yelp'}\n"
     ]
    }
   ],
   "source": [
    "data_user = data_load('user')"
   ]
  },
  {
   "cell_type": "code",
   "execution_count": 36,
   "metadata": {},
   "outputs": [
    {
     "name": "stdout",
     "output_type": "stream",
     "text": [
      "\n",
      "yelp:\n",
      "| Field              |   Count | Percentage of Missing   | 待补充的分析   |\n",
      "|--------------------|---------|-------------------------|----------------|\n",
      "| user_id            |  558111 | 0.00%                   |                |\n",
      "| name               |  558111 | 0.00%                   |                |\n",
      "| review_count       |  558111 | 0.00%                   |                |\n",
      "| yelping_since      |  558111 | 0.00%                   |                |\n",
      "| useful             |  558111 | 0.00%                   |                |\n",
      "| funny              |  558111 | 0.00%                   |                |\n",
      "| cool               |  558111 | 0.00%                   |                |\n",
      "| elite              |   36875 | 93.39%                  |                |\n",
      "| friends            |  558111 | 0.00%                   |                |\n",
      "| fans               |  558111 | 0.00%                   |                |\n",
      "| average_stars      |  558111 | 0.00%                   |                |\n",
      "| compliment_hot     |  558111 | 0.00%                   |                |\n",
      "| compliment_more    |  558111 | 0.00%                   |                |\n",
      "| compliment_profile |  558111 | 0.00%                   |                |\n",
      "| compliment_cute    |  558111 | 0.00%                   |                |\n",
      "| compliment_list    |  558111 | 0.00%                   |                |\n",
      "| compliment_note    |  558111 | 0.00%                   |                |\n",
      "| compliment_plain   |  558111 | 0.00%                   |                |\n",
      "| compliment_cool    |  558111 | 0.00%                   |                |\n",
      "| compliment_funny   |  558111 | 0.00%                   |                |\n",
      "| compliment_writer  |  558111 | 0.00%                   |                |\n",
      "| compliment_photos  |  558111 | 0.00%                   |                |\n",
      "| source             |  558111 | 0.00%                   |                |\n",
      "\n",
      "amazon:\n",
      "| Field   |   Count | Percentage of Missing   | 待补充的分析   |\n",
      "|---------|---------|-------------------------|----------------|\n",
      "| user_id |  194216 | 0.00%                   |                |\n",
      "| source  |  194216 | 0.00%                   |                |\n",
      "\n",
      "goodreads:\n",
      "| Field   |   Count | Percentage of Missing   | 待补充的分析   |\n",
      "|---------|---------|-------------------------|----------------|\n",
      "| user_id |  137371 | 0.00%                   |                |\n",
      "| source  |  137371 | 0.00%                   |                |\n"
     ]
    }
   ],
   "source": [
    "cleaned_data_user, key_counter_user = process_data(data_user)"
   ]
  },
  {
   "cell_type": "markdown",
   "metadata": {},
   "source": [
    "# 🌟Item数据分析"
   ]
  },
  {
   "cell_type": "code",
   "execution_count": 28,
   "metadata": {},
   "outputs": [
    {
     "name": "stdout",
     "output_type": "stream",
     "text": [
      "{'item_id': 'tUFrWirKiKi_TAnsVWINQQ', 'name': 'Target', 'address': '5255 E Broadway Blvd', 'city': 'Tucson', 'state': 'AZ', 'postal_code': '85711', 'latitude': 32.223236, 'longitude': -110.880452, 'stars': 3.5, 'review_count': 22, 'is_open': 0, 'attributes': {'BikeParking': 'True', 'BusinessAcceptsCreditCards': 'True', 'RestaurantsPriceRange2': '2', 'CoatCheck': 'False', 'RestaurantsTakeOut': 'False', 'RestaurantsDelivery': 'False', 'Caters': 'False', 'WiFi': \"u'no'\", 'BusinessParking': \"{'garage': False, 'street': False, 'validated': False, 'lot': True, 'valet': False}\", 'WheelchairAccessible': 'True', 'HappyHour': 'False', 'OutdoorSeating': 'False', 'HasTV': 'False', 'RestaurantsReservations': 'False', 'DogsAllowed': 'False', 'ByAppointmentOnly': 'False'}, 'categories': 'Department Stores, Shopping, Fashion, Home & Garden, Electronics, Furniture Stores', 'hours': {'Monday': '8:0-22:0', 'Tuesday': '8:0-22:0', 'Wednesday': '8:0-22:0', 'Thursday': '8:0-22:0', 'Friday': '8:0-23:0', 'Saturday': '8:0-23:0', 'Sunday': '8:0-22:0'}, 'source': 'yelp', 'type': 'business'}\n",
      "{'item_id': 'MTSW4McQd7CbVtyjqoe9mw', 'name': 'St Honore Pastries', 'address': '935 Race St', 'city': 'Philadelphia', 'state': 'PA', 'postal_code': '19107', 'latitude': 39.9555052, 'longitude': -75.1555641, 'stars': 4.0, 'review_count': 80, 'is_open': 1, 'attributes': {'RestaurantsDelivery': 'False', 'OutdoorSeating': 'False', 'BusinessAcceptsCreditCards': 'False', 'BusinessParking': \"{'garage': False, 'street': True, 'validated': False, 'lot': False, 'valet': False}\", 'BikeParking': 'True', 'RestaurantsPriceRange2': '1', 'RestaurantsTakeOut': 'True', 'ByAppointmentOnly': 'False', 'WiFi': \"u'free'\", 'Alcohol': \"u'none'\", 'Caters': 'True'}, 'categories': 'Restaurants, Food, Bubble Tea, Coffee & Tea, Bakeries', 'hours': {'Monday': '7:0-20:0', 'Tuesday': '7:0-20:0', 'Wednesday': '7:0-20:0', 'Thursday': '7:0-20:0', 'Friday': '7:0-21:0', 'Saturday': '7:0-21:0', 'Sunday': '7:0-21:0'}, 'source': 'yelp', 'type': 'business'}\n"
     ]
    }
   ],
   "source": [
    "data_item = data_load('item')"
   ]
  },
  {
   "cell_type": "code",
   "execution_count": 37,
   "metadata": {},
   "outputs": [
    {
     "name": "stdout",
     "output_type": "stream",
     "text": [
      "\n",
      "yelp:\n",
      "| Field        |   Count | Percentage of Missing   | 待补充的分析   |\n",
      "|--------------|---------|-------------------------|----------------|\n",
      "| item_id      |   32869 | 0.00%                   |                |\n",
      "| name         |   32869 | 0.00%                   |                |\n",
      "| address      |   31568 | 3.96%                   |                |\n",
      "| city         |   32869 | 0.00%                   |                |\n",
      "| state        |   32869 | 0.00%                   |                |\n",
      "| postal_code  |   32854 | 0.05%                   |                |\n",
      "| latitude     |   32869 | 0.00%                   |                |\n",
      "| longitude    |   32869 | 0.00%                   |                |\n",
      "| stars        |   32869 | 0.00%                   |                |\n",
      "| review_count |   32869 | 0.00%                   |                |\n",
      "| is_open      |   32869 | 0.00%                   |                |\n",
      "| attributes   |   32869 | 0.00%                   |                |\n",
      "| categories   |   32869 | 0.00%                   |                |\n",
      "| hours        |   32869 | 0.00%                   |                |\n",
      "| source       |   32869 | 0.00%                   |                |\n",
      "| type         |   32869 | 0.00%                   |                |\n",
      "\n",
      "amazon:\n",
      "| Field           |   Count | Percentage of Missing   | 待补充的分析   |\n",
      "|-----------------|---------|-------------------------|----------------|\n",
      "| main_category   |   76047 | 0.00%                   |                |\n",
      "| title           |   76042 | 0.01%                   |                |\n",
      "| average_rating  |   76047 | 0.00%                   |                |\n",
      "| rating_number   |   76047 | 0.00%                   |                |\n",
      "| features        |   69415 | 8.72%                   |                |\n",
      "| description     |   51301 | 32.54%                  |                |\n",
      "| price           |   76047 | 0.00%                   |                |\n",
      "| images          |   76039 | 0.01%                   |                |\n",
      "| store           |   76047 | 0.00%                   |                |\n",
      "| categories      |   73714 | 3.07%                   |                |\n",
      "| details         |   75030 | 1.34%                   |                |\n",
      "| item_id         |   76047 | 0.00%                   |                |\n",
      "| bought_together |   76047 | 0.00%                   |                |\n",
      "| subtitle        |   76047 | 0.00%                   |                |\n",
      "| author          |   76047 | 0.00%                   |                |\n",
      "| source          |   76047 | 0.00%                   |                |\n",
      "| type            |   76047 | 0.00%                   |                |\n",
      "| videos          |   44202 | 41.88%                  |                |\n",
      "\n",
      "goodreads:\n",
      "| Field                |   Count | Percentage of Missing   | 待补充的分析   |\n",
      "|----------------------|---------|-------------------------|----------------|\n",
      "| isbn                 |  185717 | 25.72%                  |                |\n",
      "| text_reviews_count   |  250007 | 0.00%                   |                |\n",
      "| country_code         |  250007 | 0.00%                   |                |\n",
      "| popular_shelves      |  250007 | 0.00%                   |                |\n",
      "| is_ebook             |  250007 | 0.00%                   |                |\n",
      "| average_rating       |  250007 | 0.00%                   |                |\n",
      "| kindle_asin          |   81149 | 67.54%                  |                |\n",
      "| description          |  211957 | 15.22%                  |                |\n",
      "| format               |  200247 | 19.90%                  |                |\n",
      "| link                 |  250007 | 0.00%                   |                |\n",
      "| authors              |  250007 | 0.00%                   |                |\n",
      "| publisher            |  204404 | 18.24%                  |                |\n",
      "| num_pages            |  190499 | 23.80%                  |                |\n",
      "| publication_day      |  160733 | 35.71%                  |                |\n",
      "| isbn13               |  201882 | 19.25%                  |                |\n",
      "| publication_month    |  175802 | 29.68%                  |                |\n",
      "| publication_year     |  205865 | 17.66%                  |                |\n",
      "| url                  |  250007 | 0.00%                   |                |\n",
      "| image_url            |  250007 | 0.00%                   |                |\n",
      "| item_id              |  250007 | 0.00%                   |                |\n",
      "| ratings_count        |  250007 | 0.00%                   |                |\n",
      "| work_id              |  250007 | 0.00%                   |                |\n",
      "| title                |  250004 | 0.00%                   |                |\n",
      "| title_without_series |  250004 | 0.00%                   |                |\n",
      "| source               |  250007 | 0.00%                   |                |\n",
      "| type                 |  250007 | 0.00%                   |                |\n",
      "| series               |  105263 | 57.90%                  |                |\n",
      "| similar_books        |  113810 | 54.48%                  |                |\n",
      "| language_code        |  128435 | 48.63%                  |                |\n",
      "| edition_information  |   16125 | 93.55%                  |                |\n",
      "| asin                 |   20185 | 91.93%                  |                |\n"
     ]
    }
   ],
   "source": [
    "cleaned_data_item, key_counter_item = process_data(data)"
   ]
  },
  {
   "cell_type": "markdown",
   "metadata": {},
   "source": [
    "# 🌟Review数据分析"
   ]
  },
  {
   "cell_type": "code",
   "execution_count": 39,
   "metadata": {},
   "outputs": [
    {
     "name": "stdout",
     "output_type": "stream",
     "text": [
      "{'review_id': 'BiTunyQ73aT9WBnpR9DZGw', 'user_id': 'OyoGAe7OKpv6SyGZT5g77Q', 'item_id': '7ATYjTIgM3jUlt4UM3IypQ', 'stars': 5.0, 'useful': 1, 'funny': 0, 'cool': 1, 'text': \"I've taken a lot of spin classes over the years, and nothing compares to the classes at Body Cycle. From the nice, clean space and amazing bikes, to the welcoming and motivating instructors, every class is a top notch work out.\\n\\nFor anyone who struggles to fit workouts in, the online scheduling system makes it easy to plan ahead (and there's no need to line up way in advanced like many gyms make you do).\\n\\nThere is no way I can write this review without giving Russell, the owner of Body Cycle, a shout out. Russell's passion for fitness and cycling is so evident, as is his desire for all of his clients to succeed. He is always dropping in to classes to check in/provide encouragement, and is open to ideas and recommendations from anyone. Russell always wears a smile on his face, even when he's kicking your butt in class!\", 'date': '2012-01-03 15:28:18', 'source': 'yelp', 'type': 'business'}\n",
      "{'review_id': 'saUsX_uimxRlCVr67Z4Jig', 'user_id': '8g_iMtfSiwikVnbP2etR0A', 'item_id': 'YjUWPpI6HXG530lwP-fb2A', 'stars': 3.0, 'useful': 0, 'funny': 0, 'cool': 0, 'text': 'Family diner. Had the buffet. Eclectic assortment: a large chicken leg, fried jalapeño, tamale, two rolled grape leaves, fresh melon. All good. Lots of Mexican choices there. Also has a menu with breakfast served all day long. Friendly, attentive staff. Good place for a casual relaxed meal with no expectations. Next to the Clarion Hotel.', 'date': '2014-02-05 20:30:30', 'source': 'yelp', 'type': 'business'}\n"
     ]
    }
   ],
   "source": [
    "data_review = data_load('review')"
   ]
  },
  {
   "cell_type": "code",
   "execution_count": 40,
   "metadata": {},
   "outputs": [
    {
     "name": "stdout",
     "output_type": "stream",
     "text": [
      "\n",
      "yelp:\n",
      "| Field        |   Count | Percentage of Missing   | 待补充的分析   |\n",
      "|--------------|---------|-------------------------|----------------|\n",
      "| item_id      |   32869 | 0.00%                   |                |\n",
      "| name         |   32869 | 0.00%                   |                |\n",
      "| address      |   31568 | 3.96%                   |                |\n",
      "| city         |   32869 | 0.00%                   |                |\n",
      "| state        |   32869 | 0.00%                   |                |\n",
      "| postal_code  |   32854 | 0.05%                   |                |\n",
      "| latitude     |   32869 | 0.00%                   |                |\n",
      "| longitude    |   32869 | 0.00%                   |                |\n",
      "| stars        |   32869 | 0.00%                   |                |\n",
      "| review_count |   32869 | 0.00%                   |                |\n",
      "| is_open      |   32869 | 0.00%                   |                |\n",
      "| attributes   |   32869 | 0.00%                   |                |\n",
      "| categories   |   32869 | 0.00%                   |                |\n",
      "| hours        |   32869 | 0.00%                   |                |\n",
      "| source       |   32869 | 0.00%                   |                |\n",
      "| type         |   32869 | 0.00%                   |                |\n",
      "\n",
      "amazon:\n",
      "| Field           |   Count | Percentage of Missing   | 待补充的分析   |\n",
      "|-----------------|---------|-------------------------|----------------|\n",
      "| main_category   |   76047 | 0.00%                   |                |\n",
      "| title           |   76042 | 0.01%                   |                |\n",
      "| average_rating  |   76047 | 0.00%                   |                |\n",
      "| rating_number   |   76047 | 0.00%                   |                |\n",
      "| features        |   69415 | 8.72%                   |                |\n",
      "| description     |   51301 | 32.54%                  |                |\n",
      "| price           |   76047 | 0.00%                   |                |\n",
      "| images          |   76039 | 0.01%                   |                |\n",
      "| store           |   76047 | 0.00%                   |                |\n",
      "| categories      |   73714 | 3.07%                   |                |\n",
      "| details         |   75030 | 1.34%                   |                |\n",
      "| item_id         |   76047 | 0.00%                   |                |\n",
      "| bought_together |   76047 | 0.00%                   |                |\n",
      "| subtitle        |   76047 | 0.00%                   |                |\n",
      "| author          |   76047 | 0.00%                   |                |\n",
      "| source          |   76047 | 0.00%                   |                |\n",
      "| type            |   76047 | 0.00%                   |                |\n",
      "| videos          |   44202 | 41.88%                  |                |\n",
      "\n",
      "goodreads:\n",
      "| Field                |   Count | Percentage of Missing   | 待补充的分析   |\n",
      "|----------------------|---------|-------------------------|----------------|\n",
      "| isbn                 |  185717 | 25.72%                  |                |\n",
      "| text_reviews_count   |  250007 | 0.00%                   |                |\n",
      "| country_code         |  250007 | 0.00%                   |                |\n",
      "| popular_shelves      |  250007 | 0.00%                   |                |\n",
      "| is_ebook             |  250007 | 0.00%                   |                |\n",
      "| average_rating       |  250007 | 0.00%                   |                |\n",
      "| kindle_asin          |   81149 | 67.54%                  |                |\n",
      "| description          |  211957 | 15.22%                  |                |\n",
      "| format               |  200247 | 19.90%                  |                |\n",
      "| link                 |  250007 | 0.00%                   |                |\n",
      "| authors              |  250007 | 0.00%                   |                |\n",
      "| publisher            |  204404 | 18.24%                  |                |\n",
      "| num_pages            |  190499 | 23.80%                  |                |\n",
      "| publication_day      |  160733 | 35.71%                  |                |\n",
      "| isbn13               |  201882 | 19.25%                  |                |\n",
      "| publication_month    |  175802 | 29.68%                  |                |\n",
      "| publication_year     |  205865 | 17.66%                  |                |\n",
      "| url                  |  250007 | 0.00%                   |                |\n",
      "| image_url            |  250007 | 0.00%                   |                |\n",
      "| item_id              |  250007 | 0.00%                   |                |\n",
      "| ratings_count        |  250007 | 0.00%                   |                |\n",
      "| work_id              |  250007 | 0.00%                   |                |\n",
      "| title                |  250004 | 0.00%                   |                |\n",
      "| title_without_series |  250004 | 0.00%                   |                |\n",
      "| source               |  250007 | 0.00%                   |                |\n",
      "| type                 |  250007 | 0.00%                   |                |\n",
      "| series               |  105263 | 57.90%                  |                |\n",
      "| similar_books        |  113810 | 54.48%                  |                |\n",
      "| language_code        |  128435 | 48.63%                  |                |\n",
      "| edition_information  |   16125 | 93.55%                  |                |\n",
      "| asin                 |   20185 | 91.93%                  |                |\n"
     ]
    }
   ],
   "source": [
    "cleaned_data_review, key_counter_review = process_data(data)"
   ]
  },
  {
   "cell_type": "code",
   "execution_count": null,
   "metadata": {},
   "outputs": [],
   "source": []
  }
 ],
 "metadata": {
  "kernelspec": {
   "display_name": "Python 3",
   "language": "python",
   "name": "python3"
  },
  "language_info": {
   "codemirror_mode": {
    "name": "ipython",
    "version": 3
   },
   "file_extension": ".py",
   "mimetype": "text/x-python",
   "name": "python",
   "nbconvert_exporter": "python",
   "pygments_lexer": "ipython3",
   "version": "3.11.5"
  }
 },
 "nbformat": 4,
 "nbformat_minor": 2
}
